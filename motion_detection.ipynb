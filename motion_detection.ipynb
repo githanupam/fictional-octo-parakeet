{
 "cells": [
  {
   "cell_type": "code",
   "execution_count": 6,
   "metadata": {},
   "outputs": [
    {
     "name": "stdout",
     "output_type": "stream",
     "text": [
      "[0, 0]\n",
      "[datetime.datetime(2020, 5, 2, 21, 52, 38, 862838), datetime.datetime(2020, 5, 2, 21, 52, 40, 988554), datetime.datetime(2020, 5, 2, 21, 52, 42, 647527), datetime.datetime(2020, 5, 2, 21, 52, 42, 780278), datetime.datetime(2020, 5, 2, 21, 52, 42, 849559), datetime.datetime(2020, 5, 2, 21, 52, 45, 168038), datetime.datetime(2020, 5, 2, 21, 52, 46, 300803), datetime.datetime(2020, 5, 2, 21, 52, 47, 160873), datetime.datetime(2020, 5, 2, 21, 52, 51, 410101), datetime.datetime(2020, 5, 2, 21, 52, 53, 334669), datetime.datetime(2020, 5, 2, 21, 52, 57, 119279), datetime.datetime(2020, 5, 2, 21, 52, 57, 583032), datetime.datetime(2020, 5, 2, 21, 52, 57, 714048), datetime.datetime(2020, 5, 2, 21, 52, 57, 782840), datetime.datetime(2020, 5, 2, 21, 53, 8, 868604), datetime.datetime(2020, 5, 2, 21, 53, 10, 260352), datetime.datetime(2020, 5, 2, 21, 53, 14, 508037), datetime.datetime(2020, 5, 2, 21, 53, 15, 832476)]\n"
     ]
    },
    {
     "data": {
      "text/html": [
       "\n",
       "\n",
       "\n",
       "\n",
       "\n",
       "\n",
       "  <div class=\"bk-root\" id=\"441deed8-b9c0-4792-ac55-835e49a5a0e2\" data-root-id=\"4240\"></div>\n"
      ]
     },
     "metadata": {},
     "output_type": "display_data"
    },
    {
     "data": {
      "application/javascript": [
       "(function(root) {\n",
       "  function embed_document(root) {\n",
       "    \n",
       "  var docs_json = {\"02be61f6-3c75-4227-803a-90ad9a1a48dd\":{\"roots\":{\"references\":[{\"attributes\":{\"below\":[{\"id\":\"4251\",\"type\":\"DatetimeAxis\"}],\"center\":[{\"id\":\"4255\",\"type\":\"Grid\"},{\"id\":\"4260\",\"type\":\"Grid\"}],\"left\":[{\"id\":\"4256\",\"type\":\"LinearAxis\"}],\"plot_height\":100,\"plot_width\":500,\"renderers\":[{\"id\":\"4279\",\"type\":\"GlyphRenderer\"}],\"title\":{\"id\":\"4241\",\"type\":\"Title\"},\"toolbar\":{\"id\":\"4267\",\"type\":\"Toolbar\"},\"x_range\":{\"id\":\"4243\",\"type\":\"DataRange1d\"},\"x_scale\":{\"id\":\"4247\",\"type\":\"LinearScale\"},\"y_range\":{\"id\":\"4245\",\"type\":\"DataRange1d\"},\"y_scale\":{\"id\":\"4249\",\"type\":\"LinearScale\"}},\"id\":\"4240\",\"subtype\":\"Figure\",\"type\":\"Plot\"},{\"attributes\":{},\"id\":\"4262\",\"type\":\"WheelZoomTool\"},{\"attributes\":{\"months\":[0,2,4,6,8,10]},\"id\":\"4404\",\"type\":\"MonthsTicker\"},{\"attributes\":{\"formatter\":{\"id\":\"4393\",\"type\":\"DatetimeTickFormatter\"},\"ticker\":{\"id\":\"4252\",\"type\":\"DatetimeTicker\"}},\"id\":\"4251\",\"type\":\"DatetimeAxis\"},{\"attributes\":{\"days\":[1,15]},\"id\":\"4402\",\"type\":\"DaysTicker\"},{\"attributes\":{\"months\":[0,4,8]},\"id\":\"4405\",\"type\":\"MonthsTicker\"},{\"attributes\":{\"formatter\":{\"id\":\"4395\",\"type\":\"BasicTickFormatter\"},\"minor_tick_line_color\":{\"value\":null},\"ticker\":{\"id\":\"4257\",\"type\":\"BasicTicker\"}},\"id\":\"4256\",\"type\":\"LinearAxis\"},{\"attributes\":{\"months\":[0,6]},\"id\":\"4406\",\"type\":\"MonthsTicker\"},{\"attributes\":{\"bottom\":{\"value\":0},\"fill_alpha\":{\"value\":0.1},\"fill_color\":{\"value\":\"#1f77b4\"},\"left\":{\"field\":\"Start\"},\"line_alpha\":{\"value\":0.1},\"line_color\":{\"value\":\"#1f77b4\"},\"right\":{\"field\":\"End\"},\"top\":{\"value\":1}},\"id\":\"4278\",\"type\":\"Quad\"},{\"attributes\":{\"callback\":null},\"id\":\"4243\",\"type\":\"DataRange1d\"},{\"attributes\":{},\"id\":\"4265\",\"type\":\"ResetTool\"},{\"attributes\":{\"days\":[1,4,7,10,13,16,19,22,25,28]},\"id\":\"4400\",\"type\":\"DaysTicker\"},{\"attributes\":{\"active_drag\":\"auto\",\"active_inspect\":\"auto\",\"active_multi\":null,\"active_scroll\":\"auto\",\"active_tap\":\"auto\",\"tools\":[{\"id\":\"4261\",\"type\":\"PanTool\"},{\"id\":\"4262\",\"type\":\"WheelZoomTool\"},{\"id\":\"4263\",\"type\":\"BoxZoomTool\"},{\"id\":\"4264\",\"type\":\"SaveTool\"},{\"id\":\"4265\",\"type\":\"ResetTool\"},{\"id\":\"4266\",\"type\":\"HelpTool\"},{\"id\":\"4274\",\"type\":\"HoverTool\"}]},\"id\":\"4267\",\"type\":\"Toolbar\"},{\"attributes\":{\"callback\":null,\"tooltips\":[[\"Start\",\"@Start_string\"],[\"End\",\"@End_string\"]]},\"id\":\"4274\",\"type\":\"HoverTool\"},{\"attributes\":{},\"id\":\"4247\",\"type\":\"LinearScale\"},{\"attributes\":{\"months\":[0,1,2,3,4,5,6,7,8,9,10,11]},\"id\":\"4403\",\"type\":\"MonthsTicker\"},{\"attributes\":{\"base\":24,\"mantissas\":[1,2,4,6,8,12],\"max_interval\":43200000.0,\"min_interval\":3600000.0,\"num_minor_ticks\":0},\"id\":\"4398\",\"type\":\"AdaptiveTicker\"},{\"attributes\":{},\"id\":\"4409\",\"type\":\"UnionRenderers\"},{\"attributes\":{\"callback\":null},\"id\":\"4245\",\"type\":\"DataRange1d\"},{\"attributes\":{\"text\":\"Motion Graph\"},\"id\":\"4241\",\"type\":\"Title\"},{\"attributes\":{},\"id\":\"4393\",\"type\":\"DatetimeTickFormatter\"},{\"attributes\":{\"base\":60,\"mantissas\":[1,2,5,10,15,20,30],\"max_interval\":1800000.0,\"min_interval\":1000.0,\"num_minor_ticks\":0},\"id\":\"4397\",\"type\":\"AdaptiveTicker\"},{\"attributes\":{\"days\":[1,2,3,4,5,6,7,8,9,10,11,12,13,14,15,16,17,18,19,20,21,22,23,24,25,26,27,28,29,30,31]},\"id\":\"4399\",\"type\":\"DaysTicker\"},{\"attributes\":{\"mantissas\":[1,2,5],\"max_interval\":500.0,\"num_minor_ticks\":0},\"id\":\"4396\",\"type\":\"AdaptiveTicker\"},{\"attributes\":{},\"id\":\"4408\",\"type\":\"Selection\"},{\"attributes\":{\"ticker\":{\"id\":\"4252\",\"type\":\"DatetimeTicker\"}},\"id\":\"4255\",\"type\":\"Grid\"},{\"attributes\":{},\"id\":\"4407\",\"type\":\"YearsTicker\"},{\"attributes\":{\"data_source\":{\"id\":\"4239\",\"type\":\"ColumnDataSource\"},\"glyph\":{\"id\":\"4277\",\"type\":\"Quad\"},\"hover_glyph\":null,\"muted_glyph\":null,\"nonselection_glyph\":{\"id\":\"4278\",\"type\":\"Quad\"},\"selection_glyph\":null,\"view\":{\"id\":\"4280\",\"type\":\"CDSView\"}},\"id\":\"4279\",\"type\":\"GlyphRenderer\"},{\"attributes\":{\"days\":[1,8,15,22]},\"id\":\"4401\",\"type\":\"DaysTicker\"},{\"attributes\":{\"callback\":null,\"data\":{\"End\":{\"__ndarray__\":\"3cjBCHYdd0JzxDEJdh13QpwAxwl2HXdC+I1DCnYdd0K0asULdh13QoPwzgx2HXdCcW3bDHYdd0KiRecPdh13Qp6HQxF2HXdC\",\"dtype\":\"float64\",\"shape\":[9]},\"End_string\":[\"2020-05-02 21:52:40\",\"2020-05-02 21:52:42\",\"2020-05-02 21:52:45\",\"2020-05-02 21:52:47\",\"2020-05-02 21:52:53\",\"2020-05-02 21:52:57\",\"2020-05-02 21:52:57\",\"2020-05-02 21:53:10\",\"2020-05-02 21:53:15\"],\"Start\":{\"__ndarray__\":\"aO08CHYdd0JveCkJdh13QvIYNgl2HXdC2cwNCnYdd0KeIU0Ldh13Qnf0sQx2HXdCxSDXDHYdd0KqSZAPdh13QpjA8BB2HXdC\",\"dtype\":\"float64\",\"shape\":[9]},\"Start_string\":[\"2020-05-02 21:52:38\",\"2020-05-02 21:52:42\",\"2020-05-02 21:52:42\",\"2020-05-02 21:52:46\",\"2020-05-02 21:52:51\",\"2020-05-02 21:52:57\",\"2020-05-02 21:52:57\",\"2020-05-02 21:53:08\",\"2020-05-02 21:53:14\"],\"index\":[0,1,2,3,4,5,6,7,8]},\"selected\":{\"id\":\"4408\",\"type\":\"Selection\"},\"selection_policy\":{\"id\":\"4409\",\"type\":\"UnionRenderers\"}},\"id\":\"4239\",\"type\":\"ColumnDataSource\"},{\"attributes\":{\"dimension\":1,\"ticker\":{\"id\":\"4257\",\"type\":\"BasicTicker\"}},\"id\":\"4260\",\"type\":\"Grid\"},{\"attributes\":{},\"id\":\"4261\",\"type\":\"PanTool\"},{\"attributes\":{},\"id\":\"4264\",\"type\":\"SaveTool\"},{\"attributes\":{\"source\":{\"id\":\"4239\",\"type\":\"ColumnDataSource\"}},\"id\":\"4280\",\"type\":\"CDSView\"},{\"attributes\":{\"desired_num_ticks\":1},\"id\":\"4257\",\"type\":\"BasicTicker\"},{\"attributes\":{\"bottom\":{\"value\":0},\"fill_color\":{\"value\":\"red\"},\"left\":{\"field\":\"Start\"},\"line_color\":{\"value\":\"red\"},\"right\":{\"field\":\"End\"},\"top\":{\"value\":1}},\"id\":\"4277\",\"type\":\"Quad\"},{\"attributes\":{\"overlay\":{\"id\":\"4410\",\"type\":\"BoxAnnotation\"}},\"id\":\"4263\",\"type\":\"BoxZoomTool\"},{\"attributes\":{},\"id\":\"4266\",\"type\":\"HelpTool\"},{\"attributes\":{\"bottom_units\":\"screen\",\"fill_alpha\":{\"value\":0.5},\"fill_color\":{\"value\":\"lightgrey\"},\"left_units\":\"screen\",\"level\":\"overlay\",\"line_alpha\":{\"value\":1.0},\"line_color\":{\"value\":\"black\"},\"line_dash\":[4,4],\"line_width\":{\"value\":2},\"render_mode\":\"css\",\"right_units\":\"screen\",\"top_units\":\"screen\"},\"id\":\"4410\",\"type\":\"BoxAnnotation\"},{\"attributes\":{\"num_minor_ticks\":5,\"tickers\":[{\"id\":\"4396\",\"type\":\"AdaptiveTicker\"},{\"id\":\"4397\",\"type\":\"AdaptiveTicker\"},{\"id\":\"4398\",\"type\":\"AdaptiveTicker\"},{\"id\":\"4399\",\"type\":\"DaysTicker\"},{\"id\":\"4400\",\"type\":\"DaysTicker\"},{\"id\":\"4401\",\"type\":\"DaysTicker\"},{\"id\":\"4402\",\"type\":\"DaysTicker\"},{\"id\":\"4403\",\"type\":\"MonthsTicker\"},{\"id\":\"4404\",\"type\":\"MonthsTicker\"},{\"id\":\"4405\",\"type\":\"MonthsTicker\"},{\"id\":\"4406\",\"type\":\"MonthsTicker\"},{\"id\":\"4407\",\"type\":\"YearsTicker\"}]},\"id\":\"4252\",\"type\":\"DatetimeTicker\"},{\"attributes\":{},\"id\":\"4395\",\"type\":\"BasicTickFormatter\"},{\"attributes\":{},\"id\":\"4249\",\"type\":\"LinearScale\"}],\"root_ids\":[\"4240\"]},\"title\":\"Bokeh Application\",\"version\":\"1.4.0\"}};\n",
       "  var render_items = [{\"docid\":\"02be61f6-3c75-4227-803a-90ad9a1a48dd\",\"roots\":{\"4240\":\"441deed8-b9c0-4792-ac55-835e49a5a0e2\"}}];\n",
       "  root.Bokeh.embed.embed_items_notebook(docs_json, render_items);\n",
       "\n",
       "  }\n",
       "  if (root.Bokeh !== undefined) {\n",
       "    embed_document(root);\n",
       "  } else {\n",
       "    var attempts = 0;\n",
       "    var timer = setInterval(function(root) {\n",
       "      if (root.Bokeh !== undefined) {\n",
       "        clearInterval(timer);\n",
       "        embed_document(root);\n",
       "      } else {\n",
       "        attempts++;\n",
       "        if (attempts > 100) {\n",
       "          clearInterval(timer);\n",
       "          console.log(\"Bokeh: ERROR: Unable to run BokehJS code because BokehJS library is missing\");\n",
       "        }\n",
       "      }\n",
       "    }, 10, root)\n",
       "  }\n",
       "})(window);"
      ],
      "application/vnd.bokehjs_exec.v0+json": ""
     },
     "metadata": {
      "application/vnd.bokehjs_exec.v0+json": {
       "id": "4240"
      }
     },
     "output_type": "display_data"
    }
   ],
   "source": [
    "import cv2, time, pandas\n",
    "from datetime import datetime\n",
    "\n",
    "first_frame = None\n",
    "status_list = [None, None] \n",
    "times = []\n",
    "df = pandas.DataFrame(columns= [\"Start\", \"End\"])\n",
    "\n",
    "video = cv2.VideoCapture(0)   \n",
    "\n",
    "time.sleep(2)\n",
    "while True:\n",
    "    check, frame = video.read()\n",
    "    status = 0\n",
    "    gray = cv2.cvtColor(frame, cv2.COLOR_BGR2GRAY)\n",
    "    gray = cv2.GaussianBlur(gray, (21, 21), 0) \n",
    "    if first_frame is None:\n",
    "        first_frame = gray\n",
    "        continue  \n",
    "\n",
    "    delta_frame = cv2.absdiff(first_frame,gray)\n",
    "    thres_frame = cv2.threshold(delta_frame, 80, 255, cv2.THRESH_BINARY)[1]\n",
    "    thres_frame = cv2.dilate(thres_frame, None, iterations=2)\n",
    "\n",
    "    \n",
    "    cnts,hier = cv2.findContours(thres_frame.copy(), cv2.RETR_EXTERNAL, cv2.CHAIN_APPROX_SIMPLE)\n",
    "\n",
    "   \n",
    "    for contour in cnts:\n",
    "        if cv2.contourArea(contour) < 1000:\n",
    "            continue\n",
    "\n",
    "        status = 1   \n",
    "        (x, y, w, h) = cv2.boundingRect(contour)\n",
    "        cv2.rectangle(frame, (x, y), (x + w, y + h), (0, 255, 0), 3)  \n",
    "\n",
    "    status_list.append(status)\n",
    "\n",
    "    status_list = status_list[-2 : ]  \n",
    "    if status_list[-1] == 1 and status_list[-2] == 0:\n",
    "        times.append(datetime.now())\n",
    "    if status_list[-1] == 0 and status_list[-2] == 1:\n",
    "        times.append(datetime.now())\n",
    "\n",
    "\n",
    "\n",
    "    cv2.imshow(\"Gray Frame\", gray)\n",
    "    cv2.imshow(\"Delta Frame\", delta_frame)\n",
    "    cv2.imshow(\"Threshold Frame\", thres_frame)\n",
    "    cv2.imshow(\"Color Frame\", frame)\n",
    "\n",
    "    key = cv2.waitKey(1)\n",
    "\n",
    "    if key == ord('q'):\n",
    "        if status == 1:\n",
    "            times.append(datetime.now())  \n",
    "        break\n",
    "    \n",
    "\n",
    "print(status_list)\n",
    "print(times)\n",
    "\n",
    "for i in range(0, len(times),2):\n",
    "    df = df.append({\"Start\":times[i], \"End\":times[i+1]}, ignore_index = True)\n",
    "\n",
    "df.to_csv(\"Times.csv\") \n",
    "\n",
    "video.release()\n",
    "cv2.destroyAllWindows()\n",
    "\n",
    "\n",
    "from bokeh.plotting import figure,show,output_file\n",
    "from bokeh.models import HoverTool,ColumnDataSource\n",
    "\n",
    "import cv2, time, pandas\n",
    "\n",
    "\n",
    "import bokeh.plotting as bp\n",
    "from bokeh.models import HoverTool,ColumnDataSourceqq\n",
    "df['Start_string']=df['Start'].dt.strftime('%Y-%m-%d %H:%M:%S')\n",
    "df['End_string']=df['End'].dt.strftime('%Y-%m-%d %H:%M:%S')\n",
    "cds = ColumnDataSource(df)\n",
    "\n",
    "p=bp.figure(x_axis_type=\"datetime\",height=100,width=500,title=\"Motion Graph\")\n",
    "p.yaxis.minor_tick_line_color=None\n",
    "p.ygrid[0].ticker.desired_num_ticks=1\n",
    "\n",
    "hover = HoverTool(tooltips=[('Start','@Start_string'),('End',\"@End_string\")])\n",
    "p.add_tools(hover)\n",
    "\n",
    "q=p.quad(left='Start',right='End',bottom=0,top=1,color='red',source=cds)\n",
    "output_file('Graph1.html')\n",
    "show(p)\n",
    "\n",
    "#import bokeh\n",
    "#print(bokeh.__version__)\n",
    "#import bokeh.plotting as bp\n",
    "#from bokeh.models.tiles import WMTSTileSource\n",
    "\n",
    "#bp.output_notebook()\n",
    "#p = bp.figure(tools='pan,wheel_zoom,reset', x_range=(-13884029,  -7453304), y_range=(2698291, 6455972))\n",
    "#p.add_tile(WMTSTileSource(url=\"http://tile.stamen.com/toner-background/{Z}/{X}/{Y}.png\"))\n",
    "\n",
    "#bp.show(p)"
   ]
  },
  {
   "cell_type": "code",
   "execution_count": null,
   "metadata": {},
   "outputs": [],
   "source": []
  },
  {
   "cell_type": "code",
   "execution_count": 3,
   "metadata": {},
   "outputs": [],
   "source": []
  },
  {
   "cell_type": "code",
   "execution_count": null,
   "metadata": {},
   "outputs": [],
   "source": []
  },
  {
   "cell_type": "code",
   "execution_count": null,
   "metadata": {},
   "outputs": [],
   "source": []
  },
  {
   "cell_type": "code",
   "execution_count": null,
   "metadata": {},
   "outputs": [],
   "source": []
  },
  {
   "cell_type": "code",
   "execution_count": null,
   "metadata": {},
   "outputs": [],
   "source": []
  }
 ],
 "metadata": {
  "kernelspec": {
   "display_name": "Python 3",
   "language": "python",
   "name": "python3"
  },
  "language_info": {
   "codemirror_mode": {
    "name": "ipython",
    "version": 3
   },
   "file_extension": ".py",
   "mimetype": "text/x-python",
   "name": "python",
   "nbconvert_exporter": "python",
   "pygments_lexer": "ipython3",
   "version": "3.7.6"
  }
 },
 "nbformat": 4,
 "nbformat_minor": 4
}
